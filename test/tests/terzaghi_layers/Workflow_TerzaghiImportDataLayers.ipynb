{
 "cells": [
  {
   "cell_type": "code",
   "execution_count": 1,
   "metadata": {},
   "outputs": [],
   "source": [
    "import numpy\n",
    "\n",
    "# First, the numbers of layers is defined and the discretization of the model.\n",
    "\n",
    "m = 10 # Number of layers\n",
    "n = 10 # Number of elements in the array\n",
    "\n",
    "# System's characteristics\n",
    "rho = 1000 # Fluid's density\n",
    "nu = 1e-3 # Fluid's viscocity\n",
    "g = 10 # Gravity's acceleration\n",
    "Kf = 2.2E9 # Fluid's bulk modulus\n",
    "a = 0.9 # Biot's coefficient\n",
    "\n",
    "# Conductivities\n",
    "k = numpy.linspace(1E-4, 1E-4, m) # Allocate hydraulic conductivity in each layer \n",
    "k[0::2] = 1E-8 # Create that heterogeneity\n",
    "k = numpy.repeat(k, n) # Allocate the hydraulic conductivity values in each mesh element \n",
    "K = k * (nu / (rho * g)) # Transform hydraulic conductivity to permeability\n",
    "\n",
    "# Porosity\n",
    "p = numpy.linspace(.2, .2, m)\n",
    "p = numpy.repeat(p, n)\n",
    "\n",
    "#Bulk modulus\n",
    "L = numpy.linspace(8.4E7, 8.4E7, m) # Allocate the bulk modulus values in each mesh element\n",
    "L = numpy.repeat(L, n)\n",
    "\n",
    "#Shear modulus\n",
    "G = numpy.linspace(6.25E7, 6.25E7, m) # Allocate the shear modulus values in each mesh element\n",
    "G = numpy.repeat(G, n)\n",
    "\n",
    "# Generate mesh. This has to match the discretization in the RHEA's input file.\n",
    "X = numpy.around(numpy.linspace(-1, 1, 1), decimals=2) # No X discretization since is a 1D solution\n",
    "Z = numpy.around(numpy.linspace(0, 100, m * n), decimals=2) # Z discretization has to much the number of material values\n",
    "\n",
    "# Data formating workflow\n",
    "dic = {} # Storage everything in a dictionary\n",
    "keys = ['K', 'p', 'L', 'G'] # Names for the material properties\n",
    "materials = [K, p, L, G] # List with the materials to iterate them\n",
    "\n",
    "# Fill the dictionary\n",
    "for i, key in enumerate(keys):\n",
    "    dic[key] = materials[i]\n",
    "\n",
    "# Name the files to be called by RHEA\n",
    "names = ['K.data', 'p.data', 'L.data', 'G.data']\n",
    "\n",
    "# Allocate data in MOOSE's format and save\n",
    "for i, key in enumerate(dic):\n",
    "    f = open(names[i],\"w+\")\n",
    "    f.write('AXIS X\\n')\n",
    "    numpy.savetxt(f, X, fmt='%.2f', newline=' ')\n",
    "    f.write('\\n\\nAXIS Y\\n')\n",
    "    numpy.savetxt(f, Z, fmt='%.2f', newline=' ')\n",
    "    f.write('\\n\\nDATA\\n')\n",
    "    numpy.savetxt(f, dic[key][::-1].flatten())\n",
    "    f.close() "
   ]
  },
  {
   "cell_type": "code",
   "execution_count": null,
   "metadata": {},
   "outputs": [],
   "source": []
  }
 ],
 "metadata": {
  "kernelspec": {
   "display_name": "Python 3",
   "language": "python",
   "name": "python3"
  },
  "language_info": {
   "codemirror_mode": {
    "name": "ipython",
    "version": 3
   },
   "file_extension": ".py",
   "mimetype": "text/x-python",
   "name": "python",
   "nbconvert_exporter": "python",
   "pygments_lexer": "ipython3",
   "version": "3.7.3"
  }
 },
 "nbformat": 4,
 "nbformat_minor": 2
}
